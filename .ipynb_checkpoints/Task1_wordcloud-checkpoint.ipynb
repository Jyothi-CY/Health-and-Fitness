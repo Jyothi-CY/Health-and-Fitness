{
 "cells": [
  {
   "cell_type": "code",
   "execution_count": 50,
   "id": "47c7f013-9b06-4b82-b161-0163250b34ef",
   "metadata": {},
   "outputs": [],
   "source": [
    "import pandas as pd\n",
    "import numpy as np"
   ]
  },
  {
   "cell_type": "code",
   "execution_count": 51,
   "id": "07f09861-c6b9-474a-b9a8-48e312d36ebd",
   "metadata": {},
   "outputs": [],
   "source": [
    "apps_df = pd.read_csv(\"E:/Data Analyst Intern Tasks/PlayStore Data.csv\")"
   ]
  },
  {
   "cell_type": "code",
   "execution_count": 52,
   "id": "eded40f7-dca6-4b80-8db1-4856d00937a7",
   "metadata": {},
   "outputs": [
    {
     "data": {
      "text/html": [
       "<div>\n",
       "<style scoped>\n",
       "    .dataframe tbody tr th:only-of-type {\n",
       "        vertical-align: middle;\n",
       "    }\n",
       "\n",
       "    .dataframe tbody tr th {\n",
       "        vertical-align: top;\n",
       "    }\n",
       "\n",
       "    .dataframe thead th {\n",
       "        text-align: right;\n",
       "    }\n",
       "</style>\n",
       "<table border=\"1\" class=\"dataframe\">\n",
       "  <thead>\n",
       "    <tr style=\"text-align: right;\">\n",
       "      <th></th>\n",
       "      <th>App</th>\n",
       "      <th>Category</th>\n",
       "      <th>Rating</th>\n",
       "      <th>Reviews</th>\n",
       "      <th>Size</th>\n",
       "      <th>Installs</th>\n",
       "      <th>Type</th>\n",
       "      <th>Price</th>\n",
       "      <th>Content Rating</th>\n",
       "      <th>Genres</th>\n",
       "      <th>Last Updated</th>\n",
       "      <th>Current Ver</th>\n",
       "      <th>Android Ver</th>\n",
       "    </tr>\n",
       "  </thead>\n",
       "  <tbody>\n",
       "    <tr>\n",
       "      <th>0</th>\n",
       "      <td>Photo Editor &amp; Candy Camera &amp; Grid &amp; ScrapBook</td>\n",
       "      <td>ART_AND_DESIGN</td>\n",
       "      <td>4.1</td>\n",
       "      <td>159</td>\n",
       "      <td>19M</td>\n",
       "      <td>10,000+</td>\n",
       "      <td>Free</td>\n",
       "      <td>0</td>\n",
       "      <td>Everyone</td>\n",
       "      <td>Art &amp; Design</td>\n",
       "      <td>January 7, 2018</td>\n",
       "      <td>1.0.0</td>\n",
       "      <td>4.0.3 and up</td>\n",
       "    </tr>\n",
       "    <tr>\n",
       "      <th>1</th>\n",
       "      <td>Coloring book moana</td>\n",
       "      <td>ART_AND_DESIGN</td>\n",
       "      <td>3.9</td>\n",
       "      <td>967</td>\n",
       "      <td>14M</td>\n",
       "      <td>500,000+</td>\n",
       "      <td>Free</td>\n",
       "      <td>0</td>\n",
       "      <td>Everyone</td>\n",
       "      <td>Art &amp; Design;Pretend Play</td>\n",
       "      <td>January 15, 2018</td>\n",
       "      <td>2.0.0</td>\n",
       "      <td>4.0.3 and up</td>\n",
       "    </tr>\n",
       "    <tr>\n",
       "      <th>2</th>\n",
       "      <td>U Launcher Lite – FREE Live Cool Themes, Hide ...</td>\n",
       "      <td>ART_AND_DESIGN</td>\n",
       "      <td>4.7</td>\n",
       "      <td>87510</td>\n",
       "      <td>8.7M</td>\n",
       "      <td>5,000,000+</td>\n",
       "      <td>Free</td>\n",
       "      <td>0</td>\n",
       "      <td>Everyone</td>\n",
       "      <td>Art &amp; Design</td>\n",
       "      <td>August 1, 2018</td>\n",
       "      <td>1.2.4</td>\n",
       "      <td>4.0.3 and up</td>\n",
       "    </tr>\n",
       "    <tr>\n",
       "      <th>3</th>\n",
       "      <td>Sketch - Draw &amp; Paint</td>\n",
       "      <td>ART_AND_DESIGN</td>\n",
       "      <td>4.5</td>\n",
       "      <td>215644</td>\n",
       "      <td>25M</td>\n",
       "      <td>50,000,000+</td>\n",
       "      <td>Free</td>\n",
       "      <td>0</td>\n",
       "      <td>Teen</td>\n",
       "      <td>Art &amp; Design</td>\n",
       "      <td>June 8, 2018</td>\n",
       "      <td>Varies with device</td>\n",
       "      <td>4.2 and up</td>\n",
       "    </tr>\n",
       "    <tr>\n",
       "      <th>4</th>\n",
       "      <td>Pixel Draw - Number Art Coloring Book</td>\n",
       "      <td>ART_AND_DESIGN</td>\n",
       "      <td>4.3</td>\n",
       "      <td>967</td>\n",
       "      <td>2.8M</td>\n",
       "      <td>100,000+</td>\n",
       "      <td>Free</td>\n",
       "      <td>0</td>\n",
       "      <td>Everyone</td>\n",
       "      <td>Art &amp; Design;Creativity</td>\n",
       "      <td>June 20, 2018</td>\n",
       "      <td>1.1</td>\n",
       "      <td>4.4 and up</td>\n",
       "    </tr>\n",
       "  </tbody>\n",
       "</table>\n",
       "</div>"
      ],
      "text/plain": [
       "                                                 App        Category  Rating  \\\n",
       "0     Photo Editor & Candy Camera & Grid & ScrapBook  ART_AND_DESIGN     4.1   \n",
       "1                                Coloring book moana  ART_AND_DESIGN     3.9   \n",
       "2  U Launcher Lite – FREE Live Cool Themes, Hide ...  ART_AND_DESIGN     4.7   \n",
       "3                              Sketch - Draw & Paint  ART_AND_DESIGN     4.5   \n",
       "4              Pixel Draw - Number Art Coloring Book  ART_AND_DESIGN     4.3   \n",
       "\n",
       "   Reviews  Size     Installs  Type Price Content Rating  \\\n",
       "0      159   19M      10,000+  Free     0       Everyone   \n",
       "1      967   14M     500,000+  Free     0       Everyone   \n",
       "2    87510  8.7M   5,000,000+  Free     0       Everyone   \n",
       "3   215644   25M  50,000,000+  Free     0           Teen   \n",
       "4      967  2.8M     100,000+  Free     0       Everyone   \n",
       "\n",
       "                      Genres      Last Updated         Current Ver  \\\n",
       "0               Art & Design   January 7, 2018               1.0.0   \n",
       "1  Art & Design;Pretend Play  January 15, 2018               2.0.0   \n",
       "2               Art & Design    August 1, 2018               1.2.4   \n",
       "3               Art & Design      June 8, 2018  Varies with device   \n",
       "4    Art & Design;Creativity     June 20, 2018                 1.1   \n",
       "\n",
       "    Android Ver  \n",
       "0  4.0.3 and up  \n",
       "1  4.0.3 and up  \n",
       "2  4.0.3 and up  \n",
       "3    4.2 and up  \n",
       "4    4.4 and up  "
      ]
     },
     "execution_count": 52,
     "metadata": {},
     "output_type": "execute_result"
    }
   ],
   "source": [
    "apps_df = apps_df.loc[:, ~apps_df.columns.str.contains('^Unnamed')]\n",
    "apps_df.head()"
   ]
  },
  {
   "cell_type": "code",
   "execution_count": 53,
   "id": "c3d6d2f4-be55-4bc7-bb25-22ba127822e8",
   "metadata": {},
   "outputs": [
    {
     "data": {
      "text/plain": [
       "Index(['App', 'Category', 'Rating', 'Reviews', 'Size', 'Installs', 'Type',\n",
       "       'Price', 'Content Rating', 'Genres', 'Last Updated', 'Current Ver',\n",
       "       'Android Ver'],\n",
       "      dtype='object')"
      ]
     },
     "execution_count": 53,
     "metadata": {},
     "output_type": "execute_result"
    }
   ],
   "source": [
    "apps_df.columns"
   ]
  },
  {
   "cell_type": "code",
   "execution_count": 54,
   "id": "10cee589-b0d0-44d0-9360-2f5eb977a40b",
   "metadata": {},
   "outputs": [
    {
     "name": "stdout",
     "output_type": "stream",
     "text": [
      "Unique Categories: ['ART_AND_DESIGN' 'AUTO_AND_VEHICLES' 'BEAUTY' 'BOOKS_AND_REFERENCE'\n",
      " 'BUSINESS' 'COMICS' 'COMMUNICATION' 'DATING' 'EDUCATION' 'ENTERTAINMENT'\n",
      " 'EVENTS' 'FINANCE' 'FOOD_AND_DRINK' 'HEALTH_AND_FITNESS' 'HOUSE_AND_HOME'\n",
      " 'LIBRARIES_AND_DEMO' 'LIFESTYLE' 'GAME' 'FAMILY' 'MEDICAL' 'SOCIAL'\n",
      " 'SHOPPING' 'PHOTOGRAPHY' 'SPORTS' 'TRAVEL_AND_LOCAL' 'TOOLS'\n",
      " 'PERSONALIZATION' 'PRODUCTIVITY' 'PARENTING' 'WEATHER' 'VIDEO_PLAYERS'\n",
      " 'NEWS_AND_MAGAZINES' 'MAPS_AND_NAVIGATION']\n"
     ]
    }
   ],
   "source": [
    "# Check unique categories (look for variations like \"Health & Fitness\")\n",
    "print(\"Unique Categories:\", apps_df['Category'].unique())"
   ]
  },
  {
   "cell_type": "code",
   "execution_count": 55,
   "id": "b9ebfe85-dd8c-420b-92fd-602c62068653",
   "metadata": {},
   "outputs": [
    {
     "name": "stdout",
     "output_type": "stream",
     "text": [
      "Total apps : 288 HEALTH_AND_FITNESS apps.\n"
     ]
    }
   ],
   "source": [
    "# Filter for 'HEALTH_AND_FITNESS'\n",
    "\n",
    "health_fitness_df = apps_df[apps_df['Category'] == 'HEALTH_AND_FITNESS'].copy()\n",
    "\n",
    "# Verify the filtered data\n",
    "print(f\"Total apps : {len(health_fitness_df)} HEALTH_AND_FITNESS apps.\")"
   ]
  },
  {
   "cell_type": "code",
   "execution_count": 56,
   "id": "ae8375ee-9a1c-4509-a19b-d28cf28bfdee",
   "metadata": {},
   "outputs": [
    {
     "name": "stdout",
     "output_type": "stream",
     "text": [
      "                                                 App            Category  \\\n",
      "1027                     Home Workout - No Equipment  HEALTH_AND_FITNESS   \n",
      "1028                  Step Counter - Calorie Counter  HEALTH_AND_FITNESS   \n",
      "1029        Lose Belly Fat in 30 Days - Flat Stomach  HEALTH_AND_FITNESS   \n",
      "1030  Pedometer - Step Counter Free & Calorie Burner  HEALTH_AND_FITNESS   \n",
      "1031               Six Pack in 30 Days - Abs Workout  HEALTH_AND_FITNESS   \n",
      "\n",
      "      Rating  Reviews  Size     Installs  Type Price Content Rating  \\\n",
      "1027     4.8   428156   15M  10,000,000+  Free     0       Everyone   \n",
      "1028     4.0     1577  2.2M     500,000+  Free     0       Everyone   \n",
      "1029     4.9    38098   11M   5,000,000+  Free     0       Everyone   \n",
      "1030     4.8    31139  6.9M   1,000,000+  Free     0       Everyone   \n",
      "1031     4.9   272337   13M  10,000,000+  Free     0       Everyone   \n",
      "\n",
      "                Genres     Last Updated         Current Ver  \\\n",
      "1027  Health & Fitness    June 28, 2018  Varies with device   \n",
      "1028  Health & Fitness  August 12, 2017               1.0.7   \n",
      "1029  Health & Fitness    June 21, 2018               1.0.4   \n",
      "1030  Health & Fitness    July 24, 2018              1.0.11   \n",
      "1031  Health & Fitness    June 21, 2018               1.0.2   \n",
      "\n",
      "             Android Ver  \n",
      "1027  Varies with device  \n",
      "1028          4.4 and up  \n",
      "1029          4.2 and up  \n",
      "1030          4.1 and up  \n",
      "1031          4.2 and up  \n"
     ]
    }
   ],
   "source": [
    "print(health_fitness_df.head())"
   ]
  },
  {
   "cell_type": "code",
   "execution_count": 57,
   "id": "bbc7fe5d-9a3f-4c62-8e38-d1df8e72bf13",
   "metadata": {},
   "outputs": [
    {
     "data": {
      "text/html": [
       "<div>\n",
       "<style scoped>\n",
       "    .dataframe tbody tr th:only-of-type {\n",
       "        vertical-align: middle;\n",
       "    }\n",
       "\n",
       "    .dataframe tbody tr th {\n",
       "        vertical-align: top;\n",
       "    }\n",
       "\n",
       "    .dataframe thead th {\n",
       "        text-align: right;\n",
       "    }\n",
       "</style>\n",
       "<table border=\"1\" class=\"dataframe\">\n",
       "  <thead>\n",
       "    <tr style=\"text-align: right;\">\n",
       "      <th></th>\n",
       "      <th>App</th>\n",
       "      <th>Category</th>\n",
       "      <th>Rating</th>\n",
       "      <th>Reviews</th>\n",
       "      <th>Size</th>\n",
       "      <th>Installs</th>\n",
       "      <th>Type</th>\n",
       "      <th>Price</th>\n",
       "      <th>Content Rating</th>\n",
       "      <th>Genres</th>\n",
       "      <th>Last Updated</th>\n",
       "      <th>Current Ver</th>\n",
       "      <th>Android Ver</th>\n",
       "    </tr>\n",
       "  </thead>\n",
       "  <tbody>\n",
       "    <tr>\n",
       "      <th>1027</th>\n",
       "      <td>Home Workout - No Equipment</td>\n",
       "      <td>HEALTH_AND_FITNESS</td>\n",
       "      <td>4.8</td>\n",
       "      <td>428156</td>\n",
       "      <td>15M</td>\n",
       "      <td>10,000,000+</td>\n",
       "      <td>Free</td>\n",
       "      <td>0</td>\n",
       "      <td>Everyone</td>\n",
       "      <td>Health &amp; Fitness</td>\n",
       "      <td>June 28, 2018</td>\n",
       "      <td>Varies with device</td>\n",
       "      <td>Varies with device</td>\n",
       "    </tr>\n",
       "    <tr>\n",
       "      <th>1028</th>\n",
       "      <td>Step Counter - Calorie Counter</td>\n",
       "      <td>HEALTH_AND_FITNESS</td>\n",
       "      <td>4.0</td>\n",
       "      <td>1577</td>\n",
       "      <td>2.2M</td>\n",
       "      <td>500,000+</td>\n",
       "      <td>Free</td>\n",
       "      <td>0</td>\n",
       "      <td>Everyone</td>\n",
       "      <td>Health &amp; Fitness</td>\n",
       "      <td>August 12, 2017</td>\n",
       "      <td>1.0.7</td>\n",
       "      <td>4.4 and up</td>\n",
       "    </tr>\n",
       "    <tr>\n",
       "      <th>1029</th>\n",
       "      <td>Lose Belly Fat in 30 Days - Flat Stomach</td>\n",
       "      <td>HEALTH_AND_FITNESS</td>\n",
       "      <td>4.9</td>\n",
       "      <td>38098</td>\n",
       "      <td>11M</td>\n",
       "      <td>5,000,000+</td>\n",
       "      <td>Free</td>\n",
       "      <td>0</td>\n",
       "      <td>Everyone</td>\n",
       "      <td>Health &amp; Fitness</td>\n",
       "      <td>June 21, 2018</td>\n",
       "      <td>1.0.4</td>\n",
       "      <td>4.2 and up</td>\n",
       "    </tr>\n",
       "    <tr>\n",
       "      <th>1030</th>\n",
       "      <td>Pedometer - Step Counter Free &amp; Calorie Burner</td>\n",
       "      <td>HEALTH_AND_FITNESS</td>\n",
       "      <td>4.8</td>\n",
       "      <td>31139</td>\n",
       "      <td>6.9M</td>\n",
       "      <td>1,000,000+</td>\n",
       "      <td>Free</td>\n",
       "      <td>0</td>\n",
       "      <td>Everyone</td>\n",
       "      <td>Health &amp; Fitness</td>\n",
       "      <td>July 24, 2018</td>\n",
       "      <td>1.0.11</td>\n",
       "      <td>4.1 and up</td>\n",
       "    </tr>\n",
       "    <tr>\n",
       "      <th>1031</th>\n",
       "      <td>Six Pack in 30 Days - Abs Workout</td>\n",
       "      <td>HEALTH_AND_FITNESS</td>\n",
       "      <td>4.9</td>\n",
       "      <td>272337</td>\n",
       "      <td>13M</td>\n",
       "      <td>10,000,000+</td>\n",
       "      <td>Free</td>\n",
       "      <td>0</td>\n",
       "      <td>Everyone</td>\n",
       "      <td>Health &amp; Fitness</td>\n",
       "      <td>June 21, 2018</td>\n",
       "      <td>1.0.2</td>\n",
       "      <td>4.2 and up</td>\n",
       "    </tr>\n",
       "  </tbody>\n",
       "</table>\n",
       "</div>"
      ],
      "text/plain": [
       "                                                 App            Category  \\\n",
       "1027                     Home Workout - No Equipment  HEALTH_AND_FITNESS   \n",
       "1028                  Step Counter - Calorie Counter  HEALTH_AND_FITNESS   \n",
       "1029        Lose Belly Fat in 30 Days - Flat Stomach  HEALTH_AND_FITNESS   \n",
       "1030  Pedometer - Step Counter Free & Calorie Burner  HEALTH_AND_FITNESS   \n",
       "1031               Six Pack in 30 Days - Abs Workout  HEALTH_AND_FITNESS   \n",
       "\n",
       "      Rating  Reviews  Size     Installs  Type Price Content Rating  \\\n",
       "1027     4.8   428156   15M  10,000,000+  Free     0       Everyone   \n",
       "1028     4.0     1577  2.2M     500,000+  Free     0       Everyone   \n",
       "1029     4.9    38098   11M   5,000,000+  Free     0       Everyone   \n",
       "1030     4.8    31139  6.9M   1,000,000+  Free     0       Everyone   \n",
       "1031     4.9   272337   13M  10,000,000+  Free     0       Everyone   \n",
       "\n",
       "                Genres     Last Updated         Current Ver  \\\n",
       "1027  Health & Fitness    June 28, 2018  Varies with device   \n",
       "1028  Health & Fitness  August 12, 2017               1.0.7   \n",
       "1029  Health & Fitness    June 21, 2018               1.0.4   \n",
       "1030  Health & Fitness    July 24, 2018              1.0.11   \n",
       "1031  Health & Fitness    June 21, 2018               1.0.2   \n",
       "\n",
       "             Android Ver  \n",
       "1027  Varies with device  \n",
       "1028          4.4 and up  \n",
       "1029          4.2 and up  \n",
       "1030          4.1 and up  \n",
       "1031          4.2 and up  "
      ]
     },
     "execution_count": 57,
     "metadata": {},
     "output_type": "execute_result"
    }
   ],
   "source": [
    "health_fitness_df.head()"
   ]
  },
  {
   "cell_type": "code",
   "execution_count": 58,
   "id": "bc5933bd-68a3-4afd-b30f-fef4859635db",
   "metadata": {},
   "outputs": [
    {
     "name": "stdout",
     "output_type": "stream",
     "text": [
      "Filtered data saved to 'health_and_fitness_apps.csv'.\n"
     ]
    }
   ],
   "source": [
    "health_fitness_df.to_csv('health_and_fitness_apps.csv', index=False)\n",
    "print(\"Filtered data saved to 'health_and_fitness_apps.csv'.\")"
   ]
  },
  {
   "cell_type": "code",
   "execution_count": 59,
   "id": "f5e6df30-9d12-4492-b84e-7fa7d0cad7f9",
   "metadata": {},
   "outputs": [
    {
     "name": "stdout",
     "output_type": "stream",
     "text": [
      "Null values in 'Category': 0\n"
     ]
    }
   ],
   "source": [
    "print(\"Null values in 'Category':\", health_fitness_df['Category'].isna().sum())"
   ]
  },
  {
   "cell_type": "code",
   "execution_count": 60,
   "id": "c969b5a4-d34c-4692-898c-2e60d3aa31a6",
   "metadata": {},
   "outputs": [
    {
     "name": "stdout",
     "output_type": "stream",
     "text": [
      "Total : 12 5-star reviews in HEALTH_AND_FITNESS.\n"
     ]
    }
   ],
   "source": [
    "# Now check whether rating column has rating of '5'\n",
    "# Filter for HEALTH_AND_FITNESS apps with 5-star ratings\n",
    "\n",
    "FiveStar_reviews = health_fitness_df[health_fitness_df['Rating'] == 5]\n",
    "print(f\"Total : {len(FiveStar_reviews)} 5-star reviews in HEALTH_AND_FITNESS.\")"
   ]
  },
  {
   "cell_type": "code",
   "execution_count": 64,
   "id": "89324c6d-f657-42ec-843f-b4fc54c296e9",
   "metadata": {},
   "outputs": [
    {
     "name": "stdout",
     "output_type": "stream",
     "text": [
      "Data type of 'Rating': float64\n"
     ]
    }
   ],
   "source": [
    "# Check Data Types\n",
    "\n",
    "print(\"Data type of 'Rating':\", health_fitness_df['Rating'].dtype)\n",
    "\n",
    "# Convert to float if needed\n",
    "health_fitness_df['Rating'] = pd.to_numeric(health_fitness_df['Rating'], errors='coerce')"
   ]
  },
  {
   "cell_type": "code",
   "execution_count": 65,
   "id": "89b76a1e-a833-46b4-9e6d-9e8aaccd784b",
   "metadata": {},
   "outputs": [],
   "source": [
    "health_fitness_df = health_fitness_df.dropna(subset=['Rating'])"
   ]
  },
  {
   "cell_type": "code",
   "execution_count": null,
   "id": "6d14444d-91cf-47ad-a518-7e652ce6ffcd",
   "metadata": {},
   "outputs": [],
   "source": []
  },
  {
   "cell_type": "code",
   "execution_count": 70,
   "id": "12a8a802-01c3-4d38-afb4-70d8a1ae0b0b",
   "metadata": {},
   "outputs": [
    {
     "data": {
      "text/plain": [
       "\" These 2 datasets are used for m training program and i considered to complete the given task :\\n\\n1. As per google play store dataset (PlayStore Data.csv) there are 288 'HEALTH_AND_FITNESS' rows.\\n2. And 2nd condition, there are total of 12- 5 star reviews from users. \""
      ]
     },
     "execution_count": 70,
     "metadata": {},
     "output_type": "execute_result"
    }
   ],
   "source": [
    "''' These 2 datasets are used for m training program and i considered to complete the given task :\n",
    "\n",
    "1. As per google play store dataset (PlayStore Data.csv) there are 288 'HEALTH_AND_FITNESS' rows.\n",
    "2. And 2nd condition, there are total of 12- 5 star reviews from users. '''"
   ]
  },
  {
   "cell_type": "code",
   "execution_count": null,
   "id": "2db02edf-da2c-41d5-8c72-c8b0a7020911",
   "metadata": {},
   "outputs": [],
   "source": []
  },
  {
   "cell_type": "code",
   "execution_count": null,
   "id": "ce69caa9-bfdf-42b2-a728-7d6f9205ad74",
   "metadata": {},
   "outputs": [],
   "source": []
  }
 ],
 "metadata": {
  "kernelspec": {
   "display_name": "Python 3 (ipykernel)",
   "language": "python",
   "name": "python3"
  },
  "language_info": {
   "codemirror_mode": {
    "name": "ipython",
    "version": 3
   },
   "file_extension": ".py",
   "mimetype": "text/x-python",
   "name": "python",
   "nbconvert_exporter": "python",
   "pygments_lexer": "ipython3",
   "version": "3.13.2"
  }
 },
 "nbformat": 4,
 "nbformat_minor": 5
}
