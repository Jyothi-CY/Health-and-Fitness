{
 "cells": [
  {
   "cell_type": "code",
   "execution_count": null,
   "id": "0cff1900-5767-46ec-8d9a-848195344096",
   "metadata": {},
   "outputs": [],
   "source": [
    "''' 2. Create a dual-axis chart comparing the average installs and revenue for free vs. paid apps within the top 3 app categories. \n",
    "Apply filters to exclude apps with fewer than 10,000 installs and revenue below $10,000 and android version should be more than 4.0 as well as size should be more than 15M and content rating should be Everyone and app name should not have more than 30 characters including space and special character .\n",
    "This graph should work only between 1 PM IST to 2 PM IST apart from that time we should not show this graph in dashboard itself.'''"
   ]
  },
  {
   "cell_type": "code",
   "execution_count": null,
   "id": "57a83d72-ad44-496d-8fbe-b6b6c25e047f",
   "metadata": {},
   "outputs": [],
   "source": [
    "import pandas as pd\n",
    "import numpy as np"
   ]
  },
  {
   "cell_type": "code",
   "execution_count": null,
   "id": "b434eef9-78dc-434c-bd00-fd88b5ce46e9",
   "metadata": {},
   "outputs": [],
   "source": [
    "apps_df = pd.read_csv(\"E:/Data Analyst Intern Tasks/PlayStore Data.csv\")\n",
    "reviews_df = pd.read_csv(\"E:/Data Analyst Intern Tasks/User reviews.csv\")"
   ]
  },
  {
   "cell_type": "code",
   "execution_count": null,
   "id": "d4f6d0fa-4cdf-4ec3-9a8f-da1c2a8f9a36",
   "metadata": {},
   "outputs": [],
   "source": [
    "apps_df = apps_df.loc[:, ~apps_df.columns.str.contains('^Unnamed')]\n",
    "apps_df"
   ]
  },
  {
   "cell_type": "code",
   "execution_count": null,
   "id": "e33947dd-f562-4da0-a395-9495d5be1ce8",
   "metadata": {},
   "outputs": [],
   "source": [
    "reviews_df.head()"
   ]
  },
  {
   "cell_type": "code",
   "execution_count": null,
   "id": "fbdd208a-1b5e-4080-9111-db319108e6c0",
   "metadata": {},
   "outputs": [],
   "source": [
    "# Data Cleaning\n",
    "\n",
    "apps_df = apps_df.dropna(subset=['Rating'])\n",
    "for column in apps_df.columns:\n",
    "    apps_df[column].fillna(apps_df[column].mode()[0])\n",
    "apps_df.drop_duplicates   \n",
    "apps_df = apps_df[apps_df['Rating']<=5]\n",
    "reviews_df.dropna(subset=['Translated_Review'],inplace=True)"
   ]
  },
  {
   "cell_type": "code",
   "execution_count": null,
   "id": "782e8cb5-e32d-4450-9494-a4a3883c2f24",
   "metadata": {},
   "outputs": [],
   "source": [
    "#Convert the Installs columns to numeric by removing commas and +\n",
    "apps_df['Installs']=apps_df['Installs'].str.replace(',','').str.replace('+','').astype(int)\n",
    "\n",
    "# Convert Price column to numeric after removing $\n",
    "apps_df['Price']=apps_df['Price'].str.replace('$','').astype(float)"
   ]
  },
  {
   "cell_type": "code",
   "execution_count": null,
   "id": "d530e3e1-8585-4727-9e51-54dc9143f668",
   "metadata": {},
   "outputs": [],
   "source": [
    "# For missing Android versions, we can use a placeholder like \"Not specified\"\n",
    "apps_df['Android Ver'] = apps_df['Android Ver'].fillna('Not specified')\n",
    "\n",
    "# For missing Current Ver, we can either drop these rows or fill with a placeholder\n",
    "apps_df['Current Ver'] = apps_df['Current Ver'].fillna('Not specified')"
   ]
  },
  {
   "cell_type": "code",
   "execution_count": null,
   "id": "48463dc0-be35-4d2a-bd4f-ac166ff43cec",
   "metadata": {},
   "outputs": [],
   "source": [
    "apps_df.dtypes"
   ]
  },
  {
   "cell_type": "code",
   "execution_count": null,
   "id": "391ea509-b9c8-4784-9037-abc146dea3ad",
   "metadata": {},
   "outputs": [],
   "source": [
    "apps_df.isnull().sum()"
   ]
  },
  {
   "cell_type": "code",
   "execution_count": null,
   "id": "5bfa3892-c379-4248-b7bf-ac8ed9ce1d2a",
   "metadata": {},
   "outputs": [],
   "source": [
    "reviews_df.dtypes"
   ]
  },
  {
   "cell_type": "code",
   "execution_count": null,
   "id": "46ad5ec1-60aa-4b19-963d-6be18ab02a81",
   "metadata": {},
   "outputs": [],
   "source": [
    "reviews_df.isnull().sum()"
   ]
  },
  {
   "cell_type": "code",
   "execution_count": null,
   "id": "4b590946-63fb-424b-bd5c-46d1104a747c",
   "metadata": {},
   "outputs": [],
   "source": [
    "apps_df.columns"
   ]
  },
  {
   "cell_type": "code",
   "execution_count": null,
   "id": "3cbf5a19-e3cd-42f4-b54d-db5d05fc76fc",
   "metadata": {},
   "outputs": [],
   "source": [
    "reviews_df.columns"
   ]
  },
  {
   "cell_type": "code",
   "execution_count": null,
   "id": "e3482716-1186-4405-8b3b-f60e33e014cf",
   "metadata": {},
   "outputs": [],
   "source": []
  },
  {
   "cell_type": "code",
   "execution_count": null,
   "id": "84f1fd7e-2b5b-46af-9fa8-a80b6497014b",
   "metadata": {},
   "outputs": [],
   "source": [
    "import tkinter as tk\n",
    "from tkinter import ttk\n",
    "import pandas as pd\n",
    "import numpy as np\n",
    "import matplotlib.pyplot as plt\n",
    "from matplotlib.backends.backend_tkagg import FigureCanvasTkAgg\n",
    "from matplotlib.ticker import FuncFormatter\n",
    "import datetime\n",
    "from matplotlib.patches import Patch"
   ]
  },
  {
   "cell_type": "code",
   "execution_count": null,
   "id": "31bf4b89-cbef-410b-930a-051c0f6dbb24",
   "metadata": {},
   "outputs": [],
   "source": [
    "class AppDashboard(tk.Tk):\n",
    "    def __init__(self, apps_df):\n",
    "        super().__init__()\n",
    "        self.title(\"Google Play Store Analysis Dashboard\")\n",
    "        self.geometry(\"1200x800\")\n",
    "        self.configure(bg=\"lightgray\")\n",
    "        self.apps_df = apps_df\n",
    "\n",
    "        main_frame = tk.Frame(self)\n",
    "        main_frame.pack(fill=tk.BOTH, expand=True)\n",
    "\n",
    "        # Canvas and scrollbars\n",
    "        canvas = tk.Canvas(main_frame, bg='lightgray')\n",
    "        v_scrollbar = ttk.Scrollbar(main_frame, orient=\"vertical\", command=canvas.yview)\n",
    "        h_scrollbar = ttk.Scrollbar(main_frame, orient=\"horizontal\", command=canvas.xview)\n",
    "        v_scrollbar.pack(side=\"right\", fill=\"y\")\n",
    "        h_scrollbar.pack(side=\"bottom\", fill=\"x\")\n",
    "        canvas.pack(side=\"left\", fill=\"both\", expand=True)\n",
    "\n",
    "        # Scrollable frame\n",
    "        scrollable_frame = ttk.Frame(canvas)\n",
    "        scrollable_frame.bind(\"<Configure>\", lambda e: canvas.configure(scrollregion=canvas.bbox(\"all\")))\n",
    "        canvas.create_window((0, 0), window=scrollable_frame, anchor=\"nw\")\n",
    "        canvas.config(yscrollcommand=v_scrollbar.set, xscrollcommand=h_scrollbar.set)\n",
    "\n",
    "        # Grid configuration\n",
    "        for i in range(6):\n",
    "            scrollable_frame.columnconfigure(i, weight=1)\n",
    "\n",
    "        # Add visualizations\n",
    "        self.create_category_analysis(scrollable_frame, 0, 0)\n",
    "        self.create_type_analysis(scrollable_frame, 0, 1)\n",
    "        self.create_rating_analysis(scrollable_frame, 0, 2)\n",
    "        self.create_dual_axis_chart(scrollable_frame, 1, 0)\n",
    "        self.create_installation_analysis(scrollable_frame, 2, 0)\n",
    "        self.create_revenue_analysis(scrollable_frame, 2, 1)\n",
    "\n",
    "    def create_dual_axis_chart(self, parent, row, column):\n",
    "        frame = ttk.Frame(parent, padding=\"5\")\n",
    "        frame.grid(row=row, column=column, sticky=\"nsew\", pady=5, columnspan=3)\n",
    "        frame.columnconfigure(0, weight=1)\n",
    "\n",
    "        # Check time window (1 PM to 2 PM IST)\n",
    "        current_time = datetime.datetime.now().time()\n",
    "        if not (datetime.time(13, 0) <= current_time <= datetime.time(14, 0)):\n",
    "            ttk.Label(frame, text=\"This chart only appears between 1 PM - 2 PM IST\", \n",
    "                     foreground=\"gray\").pack(expand=True)\n",
    "            return\n",
    "\n",
    "        try:\n",
    "            filtered_df = self.apps_df.copy()\n",
    "            \n",
    "            # 1. Filter installs >= 10,000\n",
    "            filtered_df = filtered_df[filtered_df['Installs'] >= 10000]\n",
    "            \n",
    "            # 2. Calculate and filter revenue >= $10,000\n",
    "            filtered_df['Revenue'] = filtered_df['Price'] * filtered_df['Installs']\n",
    "            filtered_df = filtered_df[filtered_df['Revenue'] >= 10000]\n",
    "            \n",
    "            # 3. Filter Android version > 4.0\n",
    "            filtered_df = filtered_df[filtered_df['Android Ver'].apply(\n",
    "                lambda x: float(str(x).split(' ')[0]) > 4.0 if pd.notna(x) else False)]\n",
    "            \n",
    "            # 4. Filter size > 15M\n",
    "            filtered_df = filtered_df[filtered_df['Size'] > 15]\n",
    "            \n",
    "            # 5. Filter content rating is 'Everyone'\n",
    "            filtered_df = filtered_df[filtered_df['Content Rating'] == 'Everyone']\n",
    "            \n",
    "            # 6. Filter app name length <= 30 characters\n",
    "            filtered_df = filtered_df[filtered_df['App'].str.len() <= 30]\n",
    "            \n",
    "            # Check if data exists after filtering\n",
    "            if filtered_df.empty:\n",
    "                raise ValueError(\"No apps meet all filtering criteria\")\n",
    "            \n",
    "            # Get top 3 categories and group data\n",
    "            top_categories = filtered_df['Category'].value_counts().nlargest(3).index\n",
    "            filtered_df = filtered_df[filtered_df['Category'].isin(top_categories)]\n",
    "            \n",
    "            grouped = filtered_df.groupby(['Type', 'Category']).agg({'Installs': 'mean','Revenue': 'mean'}).reset_index()\n",
    "            \n",
    "            # Pivot for plotting\n",
    "            pivot_installs = grouped.pivot(index='Category', columns='Type', values='Installs')\n",
    "            pivot_revenue = grouped.pivot(index='Category', columns='Type', values='Revenue')\n",
    "            \n",
    "            # Create figure ax1 for left axis and ax2 for right axis\n",
    "            fig, ax1 = plt.subplots(figsize=(12, 6))\n",
    "            \n",
    "            # Plot installs (left axis)\n",
    "            pivot_installs.plot(kind='bar', ax=ax1, color=['#1f77b4', '#ff7f0e'], \n",
    "                              width=0.4, position=1, alpha=0.8, edgecolor='black')\n",
    "            ax1.set_ylabel('Average Installs', color='#1f77b4')\n",
    "            ax1.tick_params(axis='y', labelcolor='#1f77b4')\n",
    "            \n",
    "            # Plot revenue (right axis)\n",
    "            ax2 = ax1.twinx()\n",
    "            pivot_revenue.plot(kind='bar', ax=ax2, color=['#2ca02c', '#d62728'], \n",
    "                             width=0.4, position=0, alpha=0.6, edgecolor='black')\n",
    "            ax2.set_ylabel('Average Revenue ($)', color='#2ca02c')\n",
    "            ax2.tick_params(axis='y', labelcolor='#2ca02c')\n",
    "            \n",
    "            # Formatting\n",
    "            ax1.set_title('Free vs Paid Apps: Installs & Revenue Comparison (Top 3 Categories)')\n",
    "            ax1.set_xlabel('Category')\n",
    "            \n",
    "            # Custom legend\n",
    "            legend_elements = [\n",
    "                Patch(facecolor='#1f77b4', label='Free Apps - Installs'),\n",
    "                Patch(facecolor='#ff7f0e', label='Paid Apps - Installs'),\n",
    "                Patch(facecolor='#2ca02c', label='Free Apps - Revenue'),\n",
    "                Patch(facecolor='#d62728', label='Paid Apps - Revenue')]\n",
    "            ax1.legend(handles=legend_elements, loc='upper right')\n",
    "            \n",
    "            # Add to Tkinter(Python GUI)\n",
    "            canvas = FigureCanvasTkAgg(fig, master=frame)\n",
    "            canvas.draw()\n",
    "            canvas.get_tkinter_widget().pack(expand=True, fill=\"both\")\n",
    "            \n",
    "        except Exception as e:\n",
    "            ttk.Label(frame, text=f\"Error generating chart: {str(e)}\", \n",
    "                     foreground=\"red\").pack(expand=True)\n",
    "\n",
    "    # Other visualization methods \n",
    "    def create_category_analysis(self, parent, row, column):\n",
    "        pass  # Implementation would be similar to existing code\n",
    "    \n",
    "    def create_type_analysis(self, parent, row, column):\n",
    "        pass \n",
    "    \n",
    "    def create_rating_analysis(self, parent, row, column):\n",
    "        pass  \n",
    "    \n",
    "    def create_installation_analysis(self, parent, row, column):\n",
    "        pass \n",
    "    \n",
    "    def create_revenue_analysis(self, parent, row, column):\n",
    "        pass  \n",
    "\n",
    "if __name__ == \"__main__\":\n",
    "    apps_df = pd.read_csv(\"E:/Data Analyst Intern Tasks/PlayStore Data.csv\")\n",
    "    \n",
    "    # Data cleaning (add your existing cleaning code here)\n",
    "    # Data Cleaning\n",
    "    apps_df = apps_df.dropna(subset=['Rating'])\n",
    "    for column in apps_df.columns:\n",
    "        apps_df[column].fillna(apps_df[column].mode()[0])\n",
    "    apps_df.drop_duplicates   \n",
    "    apps_df = apps_df[apps_df['Rating']<=5]\n",
    "    reviews_df.dropna(subset=['Translated_Review'],inplace=True)\n",
    "\n",
    "    #Convert the Installs columns to numeric by removing commas and +\n",
    "    apps_df['Installs']=apps_df['Installs'].str.replace(',','').str.replace('+','').astype(int)\n",
    "\n",
    "    # Convert Price column to numeric after removing $\n",
    "    apps_df['Price']=apps_df['Price'].str.replace('$','').astype(float)\n",
    "\n",
    "    # For missing Android versions, we can use a placeholder like \"Not specified\"\n",
    "    apps_df['Android Ver'] = apps_df['Android Ver'].fillna('Not specified')\n",
    "\n",
    "    # For missing Current Ver, we can either drop these rows or fill with a placeholder\n",
    "    apps_df['Current Ver'] = apps_df['Current Ver'].fillna('Not specified')\n",
    "    \n",
    "    # Create and run dashboard\n",
    "    dashboard = AppDashboard(apps_df)\n",
    "    dashboard.mainloop()"
   ]
  },
  {
   "cell_type": "code",
   "execution_count": null,
   "id": "25d7eda6-4db4-4331-a883-6b4fc3de428c",
   "metadata": {},
   "outputs": [],
   "source": []
  }
 ],
 "metadata": {
  "kernelspec": {
   "display_name": "Python 3 (ipykernel)",
   "language": "python",
   "name": "python3"
  },
  "language_info": {
   "codemirror_mode": {
    "name": "ipython",
    "version": 3
   },
   "file_extension": ".py",
   "mimetype": "text/x-python",
   "name": "python",
   "nbconvert_exporter": "python",
   "pygments_lexer": "ipython3",
   "version": "3.13.4"
  }
 },
 "nbformat": 4,
 "nbformat_minor": 5
}
